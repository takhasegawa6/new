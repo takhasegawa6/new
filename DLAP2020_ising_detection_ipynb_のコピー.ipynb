{
  "nbformat": 4,
  "nbformat_minor": 0,
  "metadata": {
    "colab": {
      "name": "DLAP2020_ising_detection.ipynb のコピー",
      "provenance": [],
      "collapsed_sections": []
    },
    "kernelspec": {
      "name": "python3",
      "display_name": "Python 3"
    }
  },
  "cells": [
    {
      "cell_type": "markdown",
      "metadata": {
        "id": "wLmsuCOK2Vr8"
      },
      "source": [
        "# 2Dイジング模型の相転移検出　in Deep learning and physics 2020\n",
        "\n",
        "- 富谷昭夫\n",
        "\n",
        "ニューラルネットを使って $\\beta_{cr} = 0.440686$ を検出する。"
      ]
    },
    {
      "cell_type": "code",
      "metadata": {
        "id": "pLak5dPlZ8ha"
      },
      "source": [
        "#ライブラリのロード\n",
        "import matplotlib.pyplot as plt\n",
        "import numpy as np"
      ],
      "execution_count": null,
      "outputs": []
    },
    {
      "cell_type": "markdown",
      "metadata": {
        "id": "iv3JLDXpa2YN"
      },
      "source": [
        "ここでGoogle drive をマウントしてください。\n",
        "配位(conf/L32b***_***.npy) はgoogle drive に入れてください。"
      ]
    },
    {
      "cell_type": "code",
      "metadata": {
        "id": "1yXqB23ZaSbQ"
      },
      "source": [
        "# もしGoogle drive のマウントが上手く行かない場合に実行してください。\n",
        "#from google.colab import drive\n",
        "#drive.mount('/content/drive')"
      ],
      "execution_count": null,
      "outputs": []
    },
    {
      "cell_type": "code",
      "metadata": {
        "id": "4xsoQmixQuZQ",
        "colab": {
          "base_uri": "https://localhost:8080/"
        },
        "outputId": "2da9ff38-960d-4bbb-9e54-6262d8154610"
      },
      "source": [
        "# もしマウントができていれば配位の数(1900)が表示されます。\n",
        "!ls -l drive/MyDrive/conf|grep npy|wc -l"
      ],
      "execution_count": null,
      "outputs": [
        {
          "output_type": "stream",
          "text": [
            "1900\n"
          ],
          "name": "stdout"
        }
      ]
    },
    {
      "cell_type": "code",
      "metadata": {
        "id": "iSKWMQ7has1m"
      },
      "source": [
        "# パラメータリスト\n",
        "prm_list = [\n",
        "            # beta, file_name, \n",
        "             [0.90,\"drive/MyDrive/conf/L32b090_\"],\n",
        "             [0.85,\"drive/MyDrive/conf/L32b085_\"],\n",
        "            \n",
        "             [0.80,\"drive/MyDrive/conf/L32b080_\"],\n",
        "             [0.70,\"drive/MyDrive/conf/L32b070_\"],\n",
        "            \n",
        "             [0.65,\"drive/MyDrive/conf/L32b065_\"],\n",
        "             [0.60,\"drive/MyDrive/conf/L32b060_\"],\n",
        "            \n",
        "             [0.55,\"drive/MyDrive/conf/L32b055_\"],\n",
        "             [0.50,\"drive/MyDrive/conf/L32b050_\"],\n",
        "            \n",
        "             [0.47,\"drive/MyDrive/conf/L32b047_\"],\n",
        "             [0.42,\"drive/MyDrive/conf/L32b042_\"],\n",
        "            \n",
        "             [0.40,\"drive/MyDrive/conf/L32b040_\"],\n",
        "             [0.35,\"drive/MyDrive/conf/L32b035_\"],\n",
        "            \n",
        "             [0.30,\"drive/MyDrive/conf/L32b030_\"],\n",
        "             [0.25,\"drive/MyDrive/conf/L32b025_\"],\n",
        "            \n",
        "             [0.20,\"drive/MyDrive/conf/L32b020_\"],\n",
        "             [0.15,\"drive/MyDrive/conf/L32b015_\"],\n",
        "            \n",
        "             [0.10,\"drive/MyDrive/conf/L32b010_\"],\n",
        "             [0.05,\"drive/MyDrive/conf/L32b005_\"],\n",
        "            \n",
        "             [0.00,\"drive/MyDrive/conf/L32b000_\"]\n",
        "]\n",
        "# beta19 x conf100 = 1900 data"
      ],
      "execution_count": null,
      "outputs": []
    },
    {
      "cell_type": "code",
      "metadata": {
        "id": "oNPYL7wkU4Ao",
        "colab": {
          "base_uri": "https://localhost:8080/",
          "height": 1000
        },
        "outputId": "6abdafaa-27bc-488a-eb49-a5a44fa21ba8"
      },
      "source": [
        "print(\"読み込めているかのテスト\")\n",
        "for iconf in range(2):\n",
        "  print(\"beta=090\")\n",
        "  file = f\"drive/MyDrive/conf/L32b090_{iconf}.npy\"\n",
        "  sc = np.load(file)\n",
        "  plt.imshow(sc, cmap='gray')\n",
        "  plt.show()\n",
        "for iconf in range(2):\n",
        "  print(\"beta=040\")\n",
        "  file = f\"drive/MyDrive/conf/L32b040_{iconf}.npy\"\n",
        "  sc = np.load(file)\n",
        "  plt.imshow(sc, cmap='gray')\n",
        "  plt.show()\n",
        "for iconf in range(2):\n",
        "  print(\"beta=000\")\n",
        "  file = f\"drive/MyDrive/conf/L32b000_{iconf}.npy\"\n",
        "  sc = np.load(file)\n",
        "  plt.imshow(sc, cmap='gray')\n",
        "  plt.show()"
      ],
      "execution_count": null,
      "outputs": [
        {
          "output_type": "stream",
          "text": [
            "読み込めているかのテスト\n",
            "beta=090\n"
          ],
          "name": "stdout"
        },
        {
          "output_type": "display_data",
          "data": {
            "image/png": "[encoded data removed]",
            "text/plain": [
              "<Figure size 432x288 with 1 Axes>"
            ]
          },
          "metadata": {
            "tags": [],
            "needs_background": "light"
          }
        },
        {
          "output_type": "stream",
          "text": [
            "beta=090\n"
          ],
          "name": "stdout"
        },
        {
          "output_type": "display_data",
          "data": {
            "image/png": "[encoded data removed]",
            "text/plain": [
              "<Figure size 432x288 with 1 Axes>"
            ]
          },
          "metadata": {
            "tags": [],
            "needs_background": "light"
          }
        },
        {
          "output_type": "stream",
          "text": [
            "beta=040\n"
          ],
          "name": "stdout"
        },
        {
          "output_type": "display_data",
          "data": {
            "image/png": "[encoded data removed]",
            "text/plain": [
              "<Figure size 432x288 with 1 Axes>"
            ]
          },
          "metadata": {
            "tags": [],
            "needs_background": "light"
          }
        },
        {
          "output_type": "stream",
          "text": [
            "beta=040\n"
          ],
          "name": "stdout"
        },
        {
          "output_type": "display_data",
          "data": {
            "image/png": "[encoded data removed]",
            "text/plain": [
              "<Figure size 432x288 with 1 Axes>"
            ]
          },
          "metadata": {
            "tags": [],
            "needs_background": "light"
          }
        },
        {
          "output_type": "stream",
          "text": [
            "beta=000\n"
          ],
          "name": "stdout"
        },
        {
          "output_type": "display_data",
          "data": {
            "image/png": "[encoded data removed]",
            "text/plain": [
              "<Figure size 432x288 with 1 Axes>"
            ]
          },
          "metadata": {
            "tags": [],
            "needs_background": "light"
          }
        },
        {
          "output_type": "stream",
          "text": [
            "beta=000\n"
          ],
          "name": "stdout"
        },
        {
          "output_type": "display_data",
          "data": {
            "image/png": "[encoded data removed]",
            "text/plain": [
              "<Figure size 432x288 with 1 Axes>"
            ]
          },
          "metadata": {
            "tags": [],
            "needs_background": "light"
          }
        }
      ]
    },
    {
      "cell_type": "markdown",
      "metadata": {
        "id": "EFei9CNFNvU4"
      },
      "source": [
        "#教師ラベルの設定とデータの分割"
      ]
    },
    {
      "cell_type": "code",
      "metadata": {
        "id": "C0-IkWVndk06"
      },
      "source": [
        "nconf = 100 # The number of configurations per beta\n",
        "betacr = 0.440686 # critical temp for 2d ising\n",
        "#\n",
        "data = []\n",
        "labels = []\n",
        "betas = []\n",
        "nprm=len(prm_list)\n",
        "for ibeta in range(nprm):\n",
        "  beta = prm_list[ibeta][0]\n",
        "  fname = prm_list[ibeta][1]\n",
        "  for itrj in range(nconf):\n",
        "    npsc = np.load(f\"{fname}{itrj}.npy\")\n",
        "    data.append(npsc)\n",
        "    if beta > betacr:\n",
        "      labels.append([0,1])\n",
        "    else:\n",
        "      labels.append([1,0])\n",
        "    betas.append(beta)\n",
        "data = np.array(data)\n",
        "labels = np.array(labels)\n",
        "#\n",
        "train_data=data[0::2]\n",
        "train_labels=labels[0::2]\n",
        "train_betas=betas[0::2] # this will not be used in training\n",
        "#\n",
        "val_data=data[1::2]\n",
        "val_labels=labels[1::2]\n",
        "val_betas=betas[1::2]\n",
        "#\n",
        "# beta18 x conf100 = 1800 data\n",
        "# beta18 x conf50 = 900 training_data(18x50,same beta = 50) + 900 val_data"
      ],
      "execution_count": null,
      "outputs": []
    },
    {
      "cell_type": "code",
      "metadata": {
        "id": "gSGWXztFCNeS",
        "colab": {
          "base_uri": "https://localhost:8080/"
        },
        "outputId": "374aeb04-e4a8-4988-e8ba-48e2ceaaf07b"
      },
      "source": [
        "print(\"train_data.shape = \", train_data.shape)\n",
        "print(\"val_data.shape = \", val_data.shape)"
      ],
      "execution_count": null,
      "outputs": [
        {
          "output_type": "stream",
          "text": [
            "train_data.shape =  (950, 32, 32)\n",
            "val_data.shape =  (950, 32, 32)\n"
          ],
          "name": "stdout"
        }
      ]
    },
    {
      "cell_type": "markdown",
      "metadata": {
        "id": "h6J7dP9m_AvS"
      },
      "source": [
        "# Tensorflow"
      ]
    },
    {
      "cell_type": "code",
      "metadata": {
        "id": "wZLUFzdryp-O",
        "colab": {
          "base_uri": "https://localhost:8080/"
        },
        "outputId": "57fb9880-18c5-4ee0-a3cd-4ba52991c85c"
      },
      "source": [
        "import tensorflow as tf\n",
        "from tensorflow import keras\n",
        "print(tf.__version__)"
      ],
      "execution_count": null,
      "outputs": [
        {
          "output_type": "stream",
          "text": [
            "2.3.0\n"
          ],
          "name": "stdout"
        }
      ]
    },
    {
      "cell_type": "markdown",
      "metadata": {
        "id": "IR8yz5NsLEUQ"
      },
      "source": [
        "## Model def"
      ]
    },
    {
      "cell_type": "code",
      "metadata": {
        "id": "ePbOOzmq-xET"
      },
      "source": [
        "tf.random.set_seed(12345)\n",
        "model_FC = keras.Sequential([\n",
        "    keras.layers.Flatten(input_shape=(32, 32)),\n",
        "    keras.layers.Dense(100, activation='relu'),\n",
        "    keras.layers.Dense(2, activation='softmax')\n",
        "])"
      ],
      "execution_count": null,
      "outputs": []
    },
    {
      "cell_type": "code",
      "metadata": {
        "id": "BHzmkDdO_K2y"
      },
      "source": [
        "model_FC.compile(optimizer='adam', \n",
        "              loss='categorical_crossentropy',\n",
        "              metrics=['accuracy'])"
      ],
      "execution_count": null,
      "outputs": []
    },
    {
      "cell_type": "code",
      "metadata": {
        "id": "odPBIcHJ_Tax",
        "colab": {
          "base_uri": "https://localhost:8080/"
        },
        "outputId": "fc0ef82b-fe74-4dff-bcc1-3f44123eceb7"
      },
      "source": [
        "model_FC.fit(train_data, train_labels, epochs=10)"
      ],
      "execution_count": null,
      "outputs": [
        {
          "output_type": "stream",
          "text": [
            "Epoch 1/10\n",
            "30/30 [==============================] - 0s 2ms/step - loss: 0.4335 - accuracy: 0.7937\n",
            "Epoch 2/10\n",
            "30/30 [==============================] - 0s 2ms/step - loss: 0.0132 - accuracy: 1.0000\n",
            "Epoch 3/10\n",
            "30/30 [==============================] - 0s 2ms/step - loss: 0.0054 - accuracy: 1.0000\n",
            "Epoch 4/10\n",
            "30/30 [==============================] - 0s 2ms/step - loss: 0.0038 - accuracy: 1.0000\n",
            "Epoch 5/10\n",
            "30/30 [==============================] - 0s 2ms/step - loss: 0.0029 - accuracy: 1.0000\n",
            "Epoch 6/10\n",
            "30/30 [==============================] - 0s 2ms/step - loss: 0.0024 - accuracy: 1.0000\n",
            "Epoch 7/10\n",
            "30/30 [==============================] - 0s 2ms/step - loss: 0.0020 - accuracy: 1.0000\n",
            "Epoch 8/10\n",
            "30/30 [==============================] - 0s 2ms/step - loss: 0.0017 - accuracy: 1.0000\n",
            "Epoch 9/10\n",
            "30/30 [==============================] - 0s 2ms/step - loss: 0.0014 - accuracy: 1.0000\n",
            "Epoch 10/10\n",
            "30/30 [==============================] - 0s 2ms/step - loss: 0.0013 - accuracy: 1.0000\n"
          ],
          "name": "stdout"
        },
        {
          "output_type": "execute_result",
          "data": {
            "text/plain": [
              "<tensorflow.python.keras.callbacks.History at 0x7f0cb823ff98>"
            ]
          },
          "metadata": {
            "tags": []
          },
          "execution_count": 11
        }
      ]
    },
    {
      "cell_type": "code",
      "metadata": {
        "id": "IwUuUOM-D_Q_",
        "colab": {
          "base_uri": "https://localhost:8080/",
          "height": 606
        },
        "outputId": "3cf5facb-9c4e-4462-e0d6-1ca87b877ca4"
      },
      "source": [
        "xs=[]\n",
        "y1s=[]\n",
        "y2s=[]\n",
        "Ndatamax = 950\n",
        "Nsameclass = 50\n",
        "for ii in range(0,Ndatamax,Nsameclass):\n",
        "  res = model_FC(val_data[ii:ii+Nsameclass])\n",
        "  x = val_betas[ii]\n",
        "  y1= np.mean(res.numpy().T[0] )\n",
        "  y2=np.mean(res.numpy().T[1] )\n",
        "  xs.append( x)\n",
        "  y1s.append( y1 )\n",
        "  y2s.append( y2 )\n",
        "  print(x,y1,y2)\n",
        "plt.axvline(x=0.440686, ymin=0, ymax=1, ls=\"dashed\",color=\"gray\",label=\"Critical(Ans)\")\n",
        "plt.plot(xs,y1s,label=\"class:High\",marker=\"o\",color=\"red\")\n",
        "plt.plot(xs,y2s,label=\"class:Low\",marker=\"o\",color=\"blue\")\n",
        "plt.legend()\n",
        "plt.xlabel(r\"$\\beta=1/T$\")\n",
        "plt.ylabel(r\"Prob\")\n",
        "plt.show()"
      ],
      "execution_count": null,
      "outputs": [
        {
          "output_type": "stream",
          "text": [
            "0.9 5.0047383e-05 0.9999499\n",
            "0.85 5.3264852e-05 0.9999468\n",
            "0.8 5.6549125e-05 0.9999435\n",
            "0.7 7.166389e-05 0.9999283\n",
            "0.65 8.632502e-05 0.99991363\n",
            "0.6 0.00013874182 0.9998613\n",
            "0.55 0.00022765207 0.99977225\n",
            "0.5 0.001062058 0.99893785\n",
            "0.47 0.0024133257 0.9975867\n",
            "0.42 0.90538 0.09461986\n",
            "0.4 0.94069856 0.059301432\n",
            "0.35 0.9481255 0.051874563\n",
            "0.3 0.9558836 0.044116348\n",
            "0.25 0.9631257 0.03687429\n",
            "0.2 0.9430732 0.05692683\n",
            "0.15 0.952888 0.04711199\n",
            "0.1 0.95084566 0.049154356\n",
            "0.05 0.89974594 0.10025407\n",
            "0.0 0.93154144 0.06845851\n"
          ],
          "name": "stdout"
        },
        {
          "output_type": "display_data",
          "data": {
            "image/png": "[encoded data removed]",
            "text/plain": [
              "<Figure size 432x288 with 1 Axes>"
            ]
          },
          "metadata": {
            "tags": [],
            "needs_background": "light"
          }
        }
      ]
    },
    {
      "cell_type": "code",
      "metadata": {
        "id": "AMmEw5QhPC4v",
        "colab": {
          "base_uri": "https://localhost:8080/",
          "height": 371
        },
        "outputId": "3c98a7d6-a3b7-4c92-d611-bda64d4b1972"
      },
      "source": [
        "# 交点を求める。\n",
        "u1,v1 = xs[9],y1s[9]\n",
        "u2,v2 = xs[8],y1s[8]\n",
        "w1,t1 = xs[9],y2s[9]\n",
        "w2,t2 = xs[8],y2s[8]\n",
        "print(u1,v1)\n",
        "print(u2,v2)\n",
        "#\n",
        "print(w1,t1)\n",
        "print(w2,t2)\n",
        "\n",
        "from numpy.linalg import solve\n",
        "\n",
        "tan1=(v2-v1)/(u2-u1)\n",
        "tan2=(t2-t1)/(w2-w1)\n",
        "MatA = [[1, -tan1],\n",
        "        [1, -tan2]]\n",
        " \n",
        "vecB = [v1-tan1*u1,\n",
        "        t1-tan2*w1]\n",
        "#\n",
        "sol = solve(MatA, vecB)\n",
        "print(\"sol x,y = \", sol)\n",
        "#\n",
        "xx = np.linspace(0,1)\n",
        "yy = tan1*(xx-u1)+v1\n",
        "plt.plot(xx,yy)\n",
        "#\n",
        "yy = tan2*(xx-w1)+t1\n",
        "plt.plot(xx, yy)\n",
        "plt.ylim(0,1)\n",
        "plt.show()\n",
        "#\n",
        "beta_cr = 0.440686\n",
        "er = round(abs(beta_cr - sol[1])/beta_cr  *100,2)\n",
        "print(f\"Relative error = {er} %\")"
      ],
      "execution_count": null,
      "outputs": [
        {
          "output_type": "stream",
          "text": [
            "0.42 0.90538\n",
            "0.47 0.0024133257\n",
            "0.42 0.09461986\n",
            "0.47 0.9975867\n",
            "sol x,y =  [0.49999998 0.44244712]\n"
          ],
          "name": "stdout"
        },
        {
          "output_type": "display_data",
          "data": {
            "image/png": "[encoded data removed]",
            "text/plain": [
              "<Figure size 432x288 with 1 Axes>"
            ]
          },
          "metadata": {
            "tags": [],
            "needs_background": "light"
          }
        },
        {
          "output_type": "stream",
          "text": [
            "Relative error = 0.4 %\n"
          ],
          "name": "stdout"
        }
      ]
    },
    {
      "cell_type": "markdown",
      "metadata": {
        "id": "bAQVjjE8Wmc1"
      },
      "source": [
        "# Convolutional neural network\n",
        "\n",
        "CNN"
      ]
    },
    {
      "cell_type": "code",
      "metadata": {
        "id": "R5TRF-oAENwe"
      },
      "source": [
        "tf.random.set_seed(12345)\n",
        "model_CNN = keras.Sequential([\n",
        "    keras.layers.Conv2D(filters =  1,\n",
        "                        kernel_size=(4, 4), \n",
        "                        activation='relu', \n",
        "                        input_shape=(32, 32, 1) \n",
        "                        ),\n",
        "    keras.layers.Flatten(),\n",
        "    keras.layers.Dense(100, activation='relu'),\n",
        "    keras.layers.Dense(2, activation='softmax')\n",
        "])"
      ],
      "execution_count": null,
      "outputs": []
    },
    {
      "cell_type": "code",
      "metadata": {
        "id": "bx0gV2u6QqfR"
      },
      "source": [
        "model_CNN.compile(optimizer='adam', \n",
        "              loss='categorical_crossentropy',\n",
        "              metrics=['accuracy'])"
      ],
      "execution_count": null,
      "outputs": []
    },
    {
      "cell_type": "code",
      "metadata": {
        "id": "R72fLcEmbJN9",
        "colab": {
          "base_uri": "https://localhost:8080/"
        },
        "outputId": "4a695c2b-85f3-4833-bc9e-a1c0f7697fe9"
      },
      "source": [
        "train_data_cnn=np.array(train_data)\n",
        "train_data_cnn = train_data_cnn.reshape(train_data.shape[0], train_data.shape[1], train_data.shape[2], 1)\n",
        "train_data_cnn.shape"
      ],
      "execution_count": null,
      "outputs": [
        {
          "output_type": "execute_result",
          "data": {
            "text/plain": [
              "(950, 32, 32, 1)"
            ]
          },
          "metadata": {
            "tags": []
          },
          "execution_count": 16
        }
      ]
    },
    {
      "cell_type": "code",
      "metadata": {
        "id": "nxQarQ8CXCnx",
        "colab": {
          "base_uri": "https://localhost:8080/"
        },
        "outputId": "d48c2580-92e3-4bda-ab56-ee00e6a8fcc7"
      },
      "source": [
        "model_CNN.fit(train_data_cnn, train_labels, epochs=10)"
      ],
      "execution_count": null,
      "outputs": [
        {
          "output_type": "stream",
          "text": [
            "Epoch 1/10\n",
            "30/30 [==============================] - 0s 9ms/step - loss: 0.4084 - accuracy: 0.8053\n",
            "Epoch 2/10\n",
            "30/30 [==============================] - 0s 9ms/step - loss: 0.1618 - accuracy: 0.9789\n",
            "Epoch 3/10\n",
            "30/30 [==============================] - 0s 9ms/step - loss: 0.0630 - accuracy: 1.0000\n",
            "Epoch 4/10\n",
            "30/30 [==============================] - 0s 8ms/step - loss: 0.0442 - accuracy: 0.9989\n",
            "Epoch 5/10\n",
            "30/30 [==============================] - 0s 9ms/step - loss: 0.0208 - accuracy: 1.0000\n",
            "Epoch 6/10\n",
            "30/30 [==============================] - 0s 9ms/step - loss: 0.0134 - accuracy: 1.0000\n",
            "Epoch 7/10\n",
            "30/30 [==============================] - 0s 9ms/step - loss: 0.0100 - accuracy: 1.0000\n",
            "Epoch 8/10\n",
            "30/30 [==============================] - 0s 8ms/step - loss: 0.0065 - accuracy: 1.0000\n",
            "Epoch 9/10\n",
            "30/30 [==============================] - 0s 9ms/step - loss: 0.0054 - accuracy: 1.0000\n",
            "Epoch 10/10\n",
            "30/30 [==============================] - 0s 9ms/step - loss: 0.0045 - accuracy: 1.0000\n"
          ],
          "name": "stdout"
        },
        {
          "output_type": "execute_result",
          "data": {
            "text/plain": [
              "<tensorflow.python.keras.callbacks.History at 0x7f876285bef0>"
            ]
          },
          "metadata": {
            "tags": []
          },
          "execution_count": 17
        }
      ]
    },
    {
      "cell_type": "code",
      "metadata": {
        "id": "mDMnsJQZXErP",
        "colab": {
          "base_uri": "https://localhost:8080/",
          "height": 606
        },
        "outputId": "adc913cf-85d8-46eb-c6a4-0e865e9767da"
      },
      "source": [
        "xs=[]\n",
        "y1s=[]\n",
        "y2s=[]\n",
        "Ndatamax = 950\n",
        "Nsameclass = 50\n",
        "for ii in range(0,Ndatamax,Nsameclass):\n",
        "  res = model_CNN(val_data[ii:ii+Nsameclass])\n",
        "  x = val_betas[ii]\n",
        "  y1= np.mean(res.numpy().T[0] )\n",
        "  y2=np.mean(res.numpy().T[1] )\n",
        "  xs.append( x )\n",
        "  y1s.append( y1 )\n",
        "  y2s.append( y2 )\n",
        "  print(x,y1,y2)\n",
        "plt.axvline(x=0.440686, ymin=0, ymax=1, ls=\"dashed\",color=\"gray\",label=\"Critical\")\n",
        "plt.plot(xs,y1s,label=\"class:High\",marker=\"o\",color=\"red\")\n",
        "plt.plot(xs,y2s,label=\"class:Low\",marker=\"o\",color=\"blue\")\n",
        "plt.legend()\n",
        "plt.xlabel(r\"$\\beta=1/T$\")\n",
        "plt.ylabel(r\"Prob\")\n",
        "plt.show()"
      ],
      "execution_count": null,
      "outputs": [
        {
          "output_type": "stream",
          "text": [
            "0.9 4.724294e-05 0.9999527\n",
            "0.85 5.3331452e-05 0.9999468\n",
            "0.8 5.820123e-05 0.99994177\n",
            "0.7 8.533801e-05 0.9999145\n",
            "0.65 0.00013153494 0.99986833\n",
            "0.6 0.00026019898 0.99973977\n",
            "0.55 0.00084821106 0.9991518\n",
            "0.5 0.008376382 0.99162364\n",
            "0.47 0.025804238 0.9741957\n",
            "0.42 0.96269906 0.037300967\n",
            "0.4 0.9511653 0.048834678\n",
            "0.35 0.97298384 0.027016189\n",
            "0.3 0.9686726 0.03132741\n",
            "0.25 0.956013 0.043986935\n",
            "0.2 0.9604688 0.039531127\n",
            "0.15 0.9660089 0.033991136\n",
            "0.1 0.94452214 0.055477872\n",
            "0.05 0.95157564 0.04842432\n",
            "0.0 0.95175123 0.048248824\n"
          ],
          "name": "stdout"
        },
        {
          "output_type": "display_data",
          "data": {
            "image/png": "[encoded data removed]",
            "text/plain": [
              "<Figure size 432x288 with 1 Axes>"
            ]
          },
          "metadata": {
            "tags": [],
            "needs_background": "light"
          }
        }
      ]
    },
    {
      "cell_type": "code",
      "metadata": {
        "id": "CPCbqu3aBCkd",
        "colab": {
          "base_uri": "https://localhost:8080/",
          "height": 371
        },
        "outputId": "86df40e4-b28b-4fae-a656-99f273891a46"
      },
      "source": [
        "u1,v1 = xs[9],y1s[9]\n",
        "u2,v2 = xs[8],y1s[8]\n",
        "w1,t1 = xs[9],y2s[9]\n",
        "w2,t2 = xs[8],y2s[8]\n",
        "print(u1,v1)\n",
        "print(u2,v2)\n",
        "#\n",
        "print(w1,t1)\n",
        "print(w2,t2)\n",
        "\n",
        "from numpy.linalg import solve\n",
        "\n",
        "tan1=(v2-v1)/(u2-u1)\n",
        "tan2=(t2-t1)/(w2-w1)\n",
        "MatA = [[1, -tan1],\n",
        "        [1, -tan2]]\n",
        " \n",
        "vecB = [v1-tan1*u1,\n",
        "        t1-tan2*w1]\n",
        "#\n",
        "sol = solve(MatA, vecB)\n",
        "print(\"sol x,y = \", sol)\n",
        "#\n",
        "xx = np.linspace(0,1)\n",
        "yy = tan1*(xx-u1)+v1\n",
        "plt.plot(xx,yy)\n",
        "#\n",
        "yy = tan2*(xx-w1)+t1\n",
        "plt.plot(xx, yy)\n",
        "plt.ylim(0,1)\n",
        "plt.show()\n",
        "#\n",
        "beta_cr = 0.440686\n",
        "er = round(abs(beta_cr - sol[1])/beta_cr  *100,2)\n",
        "print(f\"Relative error = {er} %\")"
      ],
      "execution_count": null,
      "outputs": [
        {
          "output_type": "stream",
          "text": [
            "0.42 0.96269906\n",
            "0.47 0.025804238\n",
            "0.42 0.037300967\n",
            "0.47 0.9741957\n",
            "sol x,y =  [0.5        0.44469322]\n"
          ],
          "name": "stdout"
        },
        {
          "output_type": "display_data",
          "data": {
            "image/png": "[encoded data removed]",
            "text/plain": [
              "<Figure size 432x288 with 1 Axes>"
            ]
          },
          "metadata": {
            "tags": [],
            "needs_background": "light"
          }
        },
        {
          "output_type": "stream",
          "text": [
            "Relative error = 0.91 %\n"
          ],
          "name": "stdout"
        }
      ]
    },
    {
      "cell_type": "code",
      "metadata": {
        "id": "XOJgnq7RIBHq"
      },
      "source": [
        ""
      ],
      "execution_count": null,
      "outputs": []
    }
  ]
}